{
 "cells": [
  {
   "cell_type": "code",
   "execution_count": 4,
   "metadata": {},
   "outputs": [],
   "source": [
    "PATH=\"D:\\\\Instagram\\\\instagram-data\\\\\""
   ]
  },
  {
   "cell_type": "code",
   "execution_count": 10,
   "metadata": {},
   "outputs": [],
   "source": [
    "#https://towardsdatascience.com/multi-class-text-classification-with-scikit-learn-12f1e60e0a9f\n",
    "import os\n",
    "import json\n",
    "import re\n",
    "import pandas as pd\n",
    "from io import StringIO\n",
    "import matplotlib.pyplot as plt\n",
    "from sklearn.feature_extraction.text import TfidfVectorizer\n",
    "from sklearn.feature_selection import chi2\n",
    "import numpy as np\n",
    "\n",
    "from sklearn.model_selection import train_test_split\n",
    "from sklearn.feature_extraction.text import CountVectorizer\n",
    "from sklearn.feature_extraction.text import TfidfTransformer\n",
    "from sklearn.naive_bayes import MultinomialNB\n",
    "\n",
    "from sklearn.linear_model import LogisticRegression\n",
    "from sklearn.ensemble import RandomForestClassifier\n",
    "from sklearn.svm import LinearSVC\n",
    "from sklearn.model_selection import cross_val_score\n",
    "\n",
    "import seaborn as sns\n",
    "import random as rand"
   ]
  },
  {
   "cell_type": "code",
   "execution_count": 16,
   "metadata": {},
   "outputs": [
    {
     "name": "stdout",
     "output_type": "stream",
     "text": [
      "Reading file is in progress\n",
      "Reading file is completed\n"
     ]
    }
   ],
   "source": [
    "print(\"Reading file is in progress\")\n",
    "Text=[]\n",
    "Username=[]\n",
    "\n",
    "for i in os.listdir(PATH):\n",
    "    \n",
    "    file=PATH+i+\"\\\\\"\n",
    "    if(os.path.isdir(file)):\n",
    "        for j in os.listdir(file):\n",
    "                types=os.path.splitext(file+j)[1]\n",
    "                if(types==\".json\" and file+j==PATH+i+\"\\\\\"+i+\".json\"):\n",
    "                    with open(file+j, encoding=\"utf8\") as json_file:  \n",
    "                        data = json.load(json_file)\n",
    "                        for datas in data:\n",
    "                            for items in datas[\"edge_media_to_caption\"][\"edges\"]:\n",
    "                                Text.append(items.get(\"node\").get(\"text\"))\n",
    "                                Username.append(i)\n",
    "                                \n",
    "survey=pd.read_csv(\"D:\\\\Instagram\\\\User_Category.csv\")                             \n",
    "survey.index=survey.User\n",
    "print(\"Reading file is completed\")"
   ]
  },
  {
   "cell_type": "code",
   "execution_count": 22,
   "metadata": {},
   "outputs": [
    {
     "name": "stderr",
     "output_type": "stream",
     "text": [
      "C:\\ProgramData\\Anaconda3\\lib\\site-packages\\IPython\\core\\interactiveshell.py:2961: FutureWarning: 'User' is both an index level and a column label.\n",
      "Defaulting to column, but this will raise an ambiguity error in a future version\n",
      "  exec(code_obj, self.user_global_ns, self.user_ns)\n"
     ]
    }
   ],
   "source": [
    "survey=pd.read_csv(\"D:\\\\Instagram\\\\User_Category.csv\")                             \n",
    "survey.index=survey.User\n",
    "Text_Metric=pd.DataFrame({\"UserName\":Username,\"Text\":Text})\n",
    "Text_Metric.index=Text_Metric.UserName\n",
    "TextCategory=pd.merge(survey,Text_Metric, left_on='User',right_index=True, how='inner')"
   ]
  },
  {
   "cell_type": "code",
   "execution_count": 29,
   "metadata": {},
   "outputs": [],
   "source": [
    "Text = TextCategory.Text\n",
    "category=TextCategory.Category"
   ]
  },
  {
   "cell_type": "code",
   "execution_count": 30,
   "metadata": {},
   "outputs": [],
   "source": [
    "Text = list(map(lambda x: re.sub('[^\\w]', \" \", x), Text))\n",
    "#Text = list(map(lambda x: re.sub('[\\d]', \" \", x), Stage1))\n",
    "#category=['a','b','c','a','b']"
   ]
  },
  {
   "cell_type": "code",
   "execution_count": 32,
   "metadata": {},
   "outputs": [
    {
     "data": {
      "text/html": [
       "<div>\n",
       "<style scoped>\n",
       "    .dataframe tbody tr th:only-of-type {\n",
       "        vertical-align: middle;\n",
       "    }\n",
       "\n",
       "    .dataframe tbody tr th {\n",
       "        vertical-align: top;\n",
       "    }\n",
       "\n",
       "    .dataframe thead th {\n",
       "        text-align: right;\n",
       "    }\n",
       "</style>\n",
       "<table border=\"1\" class=\"dataframe\">\n",
       "  <thead>\n",
       "    <tr style=\"text-align: right;\">\n",
       "      <th></th>\n",
       "      <th>Type</th>\n",
       "      <th>Text</th>\n",
       "      <th>category_id</th>\n",
       "    </tr>\n",
       "    <tr>\n",
       "      <th>User</th>\n",
       "      <th></th>\n",
       "      <th></th>\n",
       "      <th></th>\n",
       "    </tr>\n",
       "  </thead>\n",
       "  <tbody>\n",
       "    <tr>\n",
       "      <th>_charlinchen</th>\n",
       "      <td>Conscientiousness</td>\n",
       "      <td>Palm trees and you  that s all I need right no...</td>\n",
       "      <td>0</td>\n",
       "    </tr>\n",
       "    <tr>\n",
       "      <th>_charlinchen</th>\n",
       "      <td>Conscientiousness</td>\n",
       "      <td>Step by step               rio  riodejaneiro  ...</td>\n",
       "      <td>0</td>\n",
       "    </tr>\n",
       "    <tr>\n",
       "      <th>_charlinchen</th>\n",
       "      <td>Conscientiousness</td>\n",
       "      <td>Don t go chasing waterfalls            iguazu ...</td>\n",
       "      <td>0</td>\n",
       "    </tr>\n",
       "    <tr>\n",
       "      <th>_charlinchen</th>\n",
       "      <td>Conscientiousness</td>\n",
       "      <td>to the moon and back           uyunisaltfla...</td>\n",
       "      <td>0</td>\n",
       "    </tr>\n",
       "    <tr>\n",
       "      <th>_charlinchen</th>\n",
       "      <td>Conscientiousness</td>\n",
       "      <td>Salt flat Uyuni           saltflats  saltdeser...</td>\n",
       "      <td>0</td>\n",
       "    </tr>\n",
       "  </tbody>\n",
       "</table>\n",
       "</div>"
      ],
      "text/plain": [
       "                           Type  \\\n",
       "User                              \n",
       "_charlinchen  Conscientiousness   \n",
       "_charlinchen  Conscientiousness   \n",
       "_charlinchen  Conscientiousness   \n",
       "_charlinchen  Conscientiousness   \n",
       "_charlinchen  Conscientiousness   \n",
       "\n",
       "                                                           Text  category_id  \n",
       "User                                                                          \n",
       "_charlinchen  Palm trees and you  that s all I need right no...            0  \n",
       "_charlinchen  Step by step               rio  riodejaneiro  ...            0  \n",
       "_charlinchen  Don t go chasing waterfalls            iguazu ...            0  \n",
       "_charlinchen     to the moon and back           uyunisaltfla...            0  \n",
       "_charlinchen  Salt flat Uyuni           saltflats  saltdeser...            0  "
      ]
     },
     "execution_count": 32,
     "metadata": {},
     "output_type": "execute_result"
    }
   ],
   "source": [
    "df=pd.DataFrame({'Type':category,'Text':Text})\n",
    "#Remove Nulls\n",
    "df = df[pd.notnull(df['Type'])]\n",
    "#Factorizing\n",
    "df['category_id'] = df['Type'].factorize()[0]\n",
    "category_id_df = df[['Type','category_id' ]].drop_duplicates().sort_values('category_id')\n",
    "category_to_id = dict(category_id_df.values)\n",
    "id_to_category = dict(category_id_df[['category_id', 'Type']].values)\n",
    "\n",
    "df.head()"
   ]
  },
  {
   "cell_type": "code",
   "execution_count": 33,
   "metadata": {},
   "outputs": [
    {
     "data": {
      "image/png": "[encoded data removed]",
      "text/plain": [
       "<Figure size 576x432 with 1 Axes>"
      ]
     },
     "metadata": {
      "needs_background": "light"
     },
     "output_type": "display_data"
    }
   ],
   "source": [
    "#Number of Posts\n",
    "fig = plt.figure(figsize=(8,6))\n",
    "df.groupby('Type').Text.count().plot.bar(ylim=0)\n",
    "plt.show()\n"
   ]
  },
  {
   "cell_type": "code",
   "execution_count": 35,
   "metadata": {},
   "outputs": [],
   "source": [
    "tfidf = TfidfVectorizer(sublinear_tf=True, min_df=5, norm='l2', encoding='latin-1', ngram_range=(1, 2), stop_words='english')\n",
    "features = tfidf.fit_transform(df.Text).toarray()\n",
    "labels = df.category_id"
   ]
  },
  {
   "cell_type": "code",
   "execution_count": 36,
   "metadata": {},
   "outputs": [
    {
     "data": {
      "text/plain": [
       "[('Agreeableness', 3),\n",
       " ('Conscientiousness', 0),\n",
       " ('Extraversion', 1),\n",
       " ('Neuroticism', 2),\n",
       " ('Openness', 4)]"
      ]
     },
     "execution_count": 36,
     "metadata": {},
     "output_type": "execute_result"
    }
   ],
   "source": [
    "sorted(category_to_id.items())"
   ]
  },
  {
   "cell_type": "code",
   "execution_count": 37,
   "metadata": {},
   "outputs": [
    {
     "name": "stdout",
     "output_type": "stream",
     "text": [
      "# '3':\n",
      "  . Most correlated unigrams:\n",
      ". vapeon\n",
      ". indonesia\n",
      "  . Most correlated bigrams:\n",
      ". dreampony maya\n",
      ". galaxys8 samsungphotography\n",
      "# '0':\n",
      "  . Most correlated unigrams:\n",
      ". berlinstagram\n",
      ". turkey\n",
      "  . Most correlated bigrams:\n",
      ". istanbul turkey\n",
      ". vsco vscocam\n",
      "# '1':\n",
      "  . Most correlated unigrams:\n",
      ". stroke\n",
      ". turkey\n",
      "  . Most correlated bigrams:\n",
      ". karlsruhe germany\n",
      ". istanbul turkey\n",
      "# '2':\n",
      "  . Most correlated unigrams:\n",
      ". iphoneography\n",
      ". dresden\n",
      "  . Most correlated bigrams:\n",
      ". iphoneography iphoneonly\n",
      ". iphoneonly iphonesia\n",
      "# '4':\n",
      "  . Most correlated unigrams:\n",
      ". tsvgülzow\n",
      ". beerpong\n",
      "  . Most correlated bigrams:\n",
      ". spektrum hamburg\n",
      ". msdockville hamburg\n"
     ]
    }
   ],
   "source": [
    "N = 2\n",
    "for Product, category_id in sorted(category_to_id.items()):\n",
    "    features_chi2 = chi2(features, labels == category_id)\n",
    "    indices = np.argsort(features_chi2[0])\n",
    "    feature_names = np.array(tfidf.get_feature_names())[indices]\n",
    "    unigrams = [v for v in feature_names if len(v.split(' ')) == 1]\n",
    "    bigrams = [v for v in feature_names if len(v.split(' ')) == 2]\n",
    "    print(\"# '{}':\".format(category_id))\n",
    "    print(\"  . Most correlated unigrams:\\n. {}\".format('\\n. '.join(unigrams[-N:])))\n",
    "    print(\"  . Most correlated bigrams:\\n. {}\".format('\\n. '.join(bigrams[-N:])))"
   ]
  },
  {
   "cell_type": "code",
   "execution_count": 38,
   "metadata": {},
   "outputs": [],
   "source": [
    "X_train, X_test, y_train, y_test = train_test_split(df['Text'], df['Type'], random_state = 0)\n",
    "count_vect = CountVectorizer()\n",
    "X_train_counts = count_vect.fit_transform(X_train)\n",
    "tfidf_transformer = TfidfTransformer()\n",
    "X_train_tfidf = tfidf_transformer.fit_transform(X_train_counts)\n",
    "clf = MultinomialNB().fit(X_train_tfidf, y_train)"
   ]
  },
  {
   "cell_type": "code",
   "execution_count": 39,
   "metadata": {},
   "outputs": [
    {
     "name": "stdout",
     "output_type": "stream",
     "text": [
      "['Conscientiousness']\n"
     ]
    }
   ],
   "source": [
    "# Predict with any text\n",
    "print(clf.predict(count_vect.transform([\"No Art\"])))"
   ]
  },
  {
   "cell_type": "code",
   "execution_count": 41,
   "metadata": {},
   "outputs": [],
   "source": [
    "models = [\n",
    "    RandomForestClassifier(n_estimators=200, max_depth=3, random_state=0),\n",
    "    LinearSVC(),\n",
    "    MultinomialNB(),\n",
    "    LogisticRegression(random_state=0),\n",
    "]\n",
    "\n",
    "CV = 5\n",
    "cv_df = pd.DataFrame(index=range(CV * len(models)))\n",
    "entries = []\n",
    "for model in models:\n",
    "    model_name = model.__class__.__name__\n",
    "    accuracies = cross_val_score(model, features, labels, scoring='accuracy', cv=CV)\n",
    "    for fold_idx, accuracy in enumerate(accuracies):\n",
    "        entries.append((model_name, fold_idx, accuracy))\n",
    "\n"
   ]
  },
  {
   "cell_type": "code",
   "execution_count": 45,
   "metadata": {},
   "outputs": [
    {
     "data": {
      "image/png": "[encoded data removed]",
      "text/plain": [
       "<Figure size 432x288 with 1 Axes>"
      ]
     },
     "metadata": {
      "needs_background": "light"
     },
     "output_type": "display_data"
    },
    {
     "data": {
      "text/plain": [
       "model_name\n",
       "LinearSVC                 0.700021\n",
       "LogisticRegression        0.741598\n",
       "MultinomialNB             0.608607\n",
       "RandomForestClassifier    0.743974\n",
       "Name: accuracy, dtype: float64"
      ]
     },
     "execution_count": 45,
     "metadata": {},
     "output_type": "execute_result"
    }
   ],
   "source": [
    "cv_df = pd.DataFrame(entries, columns=['model_name', 'fold_idx', 'accuracy'])\n",
    "sns.boxplot(x='model_name', y='accuracy', data=cv_df)\n",
    "sns.stripplot(x='model_name', y='accuracy', data=cv_df, size=10, jitter=True, edgecolor=\"gray\", linewidth=2)\n",
    "plt.show()\n",
    "\n",
    "cv_df.groupby('model_name').accuracy.mean()"
   ]
  },
  {
   "cell_type": "code",
   "execution_count": 48,
   "metadata": {},
   "outputs": [
    {
     "data": {
      "image/png": "[encoded data removed]",
      "text/plain": [
       "<Figure size 720x720 with 2 Axes>"
      ]
     },
     "metadata": {
      "needs_background": "light"
     },
     "output_type": "display_data"
    }
   ],
   "source": [
    "#Change the model as per Accuracy\n",
    "model = LinearSVC()\n",
    "X_train, X_test, y_train, y_test, indices_train, indices_test = train_test_split(features, labels, df.index, test_size=0.33, random_state=0)\n",
    "model.fit(X_train, y_train)\n",
    "y_pred = model.predict(X_test)\n",
    "from sklearn.metrics import confusion_matrix\n",
    "conf_mat = confusion_matrix(y_test, y_pred)\n",
    "fig, ax = plt.subplots(figsize=(10,10))\n",
    "sns.heatmap(conf_mat, annot=True, fmt='d',\n",
    "            xticklabels=category_id_df.Type.values, yticklabels=category_id_df.Type.values)\n",
    "plt.ylabel('Actual')\n",
    "plt.xlabel('Predicted')\n",
    "plt.show()"
   ]
  },
  {
   "cell_type": "code",
   "execution_count": 308,
   "metadata": {},
   "outputs": [
    {
     "name": "stdout",
     "output_type": "stream",
     "text": [
      "# '0':\n",
      "  . Top unigrams:\n",
      "       . instafollow\n",
      "       . instagood\n",
      "       . venezia\n",
      "       . tropical\n",
      "       . instafun\n",
      "  . Top bigrams:\n",
      "       . fair berlin\n",
      "       . saint tropez\n",
      "       . bar berlin\n",
      "       . iga 2017\n",
      "       . instapic instadaily\n",
      "# '1':\n",
      "  . Top unigrams:\n",
      "       . ifa\n",
      "       . island\n",
      "       . spain\n",
      "       . berlinmeetshamburg\n",
      "       . tulum\n",
      "  . Top bigrams:\n",
      "       . fashion fair\n",
      "       . cannes france\n",
      "       . panorama fashion\n",
      "       . instadaily instafun\n",
      "       . côte azur\n",
      "# '2':\n",
      "  . Top unigrams:\n",
      "       . oodt\n",
      "       . girl\n",
      "       . 20likes\n",
      "       . kenzo\n",
      "       . thank\n",
      "  . Top bigrams:\n",
      "       . cannes france\n",
      "       . berlin germany\n",
      "       . party berlin\n",
      "       . ausstellung berlin\n",
      "       . genzken ausstellung\n",
      "# '3':\n",
      "  . Top unigrams:\n",
      "       . bestoftheday\n",
      "       . visiting\n",
      "       . kadewe\n",
      "       . beyonce\n",
      "       . hot\n",
      "  . Top bigrams:\n",
      "       . berlin fashion\n",
      "       . world photography\n",
      "       . sony world\n",
      "       . fashion fair\n",
      "       . igers statigram\n",
      "# '4':\n",
      "  . Top unigrams:\n",
      "       . look\n",
      "       . statigram\n",
      "       . carmen\n",
      "       . sony\n",
      "       . 20likes\n",
      "  . Top bigrams:\n",
      "       . instadaily instafollow\n",
      "       . mbfw berlin\n",
      "       . panorama berlin\n",
      "       . look 20likes\n",
      "       . berlin fashion\n"
     ]
    }
   ],
   "source": [
    "#Chi Square Test\n",
    "\n",
    "model.fit(features, labels)\n",
    "N = 5\n",
    "for Product, category_id in sorted(category_to_id.items()):\n",
    "    indices = np.argsort(model.coef_[category_id])\n",
    "    feature_names = np.array(tfidf.get_feature_names())[indices]\n",
    "    unigrams = [v for v in reversed(feature_names) if len(v.split(' ')) == 1][:N]\n",
    "    bigrams = [v for v in reversed(feature_names) if len(v.split(' ')) == 2][:N]\n",
    "    print(\"# '{}':\".format(Product))\n",
    "    print(\"  . Top unigrams:\\n       . {}\".format('\\n       . '.join(unigrams)))\n",
    "    print(\"  . Top bigrams:\\n       . {}\".format('\\n       . '.join(bigrams)))"
   ]
  },
  {
   "cell_type": "code",
   "execution_count": 311,
   "metadata": {},
   "outputs": [
    {
     "name": "stdout",
     "output_type": "stream",
     "text": [
      "             precision    recall  f1-score   support\n",
      "\n",
      "          [       0.17      0.15      0.16        79\n",
      "          4       0.20      0.11      0.14        74\n",
      "                  0.25      0.14      0.18        92\n",
      "          1       0.19      0.47      0.27        74\n",
      "                  0.30      0.22      0.25        88\n",
      "\n",
      "avg / total       0.23      0.21      0.20       407\n",
      "\n"
     ]
    },
    {
     "name": "stderr",
     "output_type": "stream",
     "text": [
      "C:\\ProgramData\\Anaconda3\\lib\\site-packages\\sklearn\\metrics\\classification.py:1428: UserWarning: labels size, 5, does not match size of target_names, 11\n",
      "  .format(len(labels), len(target_names))\n"
     ]
    }
   ],
   "source": [
    "from sklearn import metrics\n",
    "print(metrics.classification_report(y_test, y_pred, target_names=str(df['Type'].unique())))"
   ]
  },
  {
   "cell_type": "code",
   "execution_count": null,
   "metadata": {},
   "outputs": [],
   "source": []
  }
 ],
 "metadata": {
  "kernelspec": {
   "display_name": "Python 3",
   "language": "python",
   "name": "python3"
  },
  "language_info": {
   "codemirror_mode": {
    "name": "ipython",
    "version": 3
   },
   "file_extension": ".py",
   "mimetype": "text/x-python",
   "name": "python",
   "nbconvert_exporter": "python",
   "pygments_lexer": "ipython3",
   "version": "3.7.0"
  }
 },
 "nbformat": 4,
 "nbformat_minor": 2
}
